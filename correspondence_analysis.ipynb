{
 "cells": [
  {
   "cell_type": "code",
   "execution_count": 1,
   "metadata": {
    "collapsed": true
   },
   "outputs": [],
   "source": [
    "%matplotlib inline\n",
    "\n",
    "import matplotlib\n",
    "import matplotlib.pyplot as plt\n",
    "import numpy as np\n",
    "import pandas as pd"
   ]
  },
  {
   "cell_type": "markdown",
   "metadata": {},
   "source": [
    "http://www.mathematica-journal.com/2010/09/an-introduction-to-correspondence-analysis/\n",
    "\n",
    "https://www.ncbi.nlm.nih.gov/pmc/articles/PMC3718710/"
   ]
  },
  {
   "cell_type": "markdown",
   "metadata": {
    "collapsed": true
   },
   "source": [
    "First, we have the cross tabulation (contigency) table of countries of residence and the primary language spoken by the respondents in this hypothetical study.\n",
    "\n",
    "There were 1000 respondents per country in this study.\n",
    "\n",
    "The cross tabulation matrix is the $I \\times J$ matrix $F = \\left[ f_{ij} \\right]$."
   ]
  },
  {
   "cell_type": "code",
   "execution_count": 2,
   "metadata": {
    "collapsed": false
   },
   "outputs": [
    {
     "name": "stdout",
     "output_type": "stream",
     "text": [
      "cross-tabulation matrix F:\n",
      "\n",
      "             English  French  Spanish  German  Italian\n",
      "Canada           688     280       10      11       11\n",
      "USA              730      31      190       8       41\n",
      "England          798      74       38      31       59\n",
      "Italy             17      13       11      15      944\n",
      "Switzerland       15     222       20     648       95\n"
     ]
    }
   ],
   "source": [
    "F = pd.read_csv('country_language_contingency.csv', index_col=0)\n",
    "\n",
    "print(\"cross-tabulation matrix F:\\n\\n{}\".format(F))"
   ]
  },
  {
   "cell_type": "markdown",
   "metadata": {
    "collapsed": false
   },
   "source": [
    "Next we derive the _correspondence matrix_ $P$ from $F$ with\n",
    "\n",
    "\\begin{align}\n",
    "  P &= \\left[ p_{ij} \\right] \\\\\n",
    "    &= \\left[ \\frac{f_{ij}}{n} \\right] & \\text{where } n = \\sum_{i=1}^{I} \\sum_{j=1}^{J} f_{ij}\n",
    "\\end{align}"
   ]
  },
  {
   "cell_type": "code",
   "execution_count": 3,
   "metadata": {
    "collapsed": false
   },
   "outputs": [
    {
     "name": "stdout",
     "output_type": "stream",
     "text": [
      "correspondence matrix P:\n",
      "\n",
      "             English  French  Spanish  German  Italian\n",
      "Canada        0.1376  0.0560   0.0020  0.0022   0.0022\n",
      "USA           0.1460  0.0062   0.0380  0.0016   0.0082\n",
      "England       0.1596  0.0148   0.0076  0.0062   0.0118\n",
      "Italy         0.0034  0.0026   0.0022  0.0030   0.1888\n",
      "Switzerland   0.0030  0.0444   0.0040  0.1296   0.0190\n"
     ]
    }
   ],
   "source": [
    "P = F / F.sum().sum()\n",
    "\n",
    "print(\"correspondence matrix P:\\n\\n{}\".format(P))"
   ]
  },
  {
   "cell_type": "markdown",
   "metadata": {},
   "source": [
    "----"
   ]
  },
  {
   "cell_type": "markdown",
   "metadata": {},
   "source": [
    "Next we define the _row_ and _column totals_.\n",
    "\n",
    "The _row totals_, which can be interpreted as the marginal frequency distribution over the sum of the rows (countries), reflect the fact that there were equally 1000 respondents per country in this study.\n",
    "\n",
    "Row totals are derived with\n",
    "\n",
    "\\begin{align}\n",
    "  p_{i+} &= \\sum_{j=1}^{J} p_{ij}\n",
    "\\end{align}"
   ]
  },
  {
   "cell_type": "code",
   "execution_count": 4,
   "metadata": {
    "collapsed": false
   },
   "outputs": [
    {
     "name": "stdout",
     "output_type": "stream",
     "text": [
      "row totals (marginal frequency distribution over the countries):\n",
      "\n",
      "Canada         0.2\n",
      "USA            0.2\n",
      "England        0.2\n",
      "Italy          0.2\n",
      "Switzerland    0.2\n",
      "dtype: float64\n"
     ]
    }
   ],
   "source": [
    "row_totals = P.sum(axis=1)\n",
    "\n",
    "print(\"row totals (marginal frequency distribution over the countries):\\n\\n{}\".format(row_totals))"
   ]
  },
  {
   "cell_type": "markdown",
   "metadata": {},
   "source": [
    "On the other hand, the _column totals_ can be interpreted as the marginal frequency distribution over the sum of the columns (languages).\n",
    "\n",
    "\\begin{align}\n",
    "  p_{+j} &= \\sum_{i=1}^{I} p_{ij}\n",
    "\\end{align}"
   ]
  },
  {
   "cell_type": "code",
   "execution_count": 5,
   "metadata": {
    "collapsed": false
   },
   "outputs": [
    {
     "name": "stdout",
     "output_type": "stream",
     "text": [
      "column totals (marginal frequency distribution over the languages):\n",
      "\n",
      "English    0.4496\n",
      "French     0.1240\n",
      "Spanish    0.0538\n",
      "German     0.1426\n",
      "Italian    0.2300\n",
      "dtype: float64\n"
     ]
    }
   ],
   "source": [
    "col_totals = P.sum(axis=0)\n",
    "\n",
    "print(\"column totals (marginal frequency distribution over the languages):\\n\\n{}\".format(col_totals))"
   ]
  },
  {
   "cell_type": "markdown",
   "metadata": {},
   "source": [
    "The $\\chi^2$ distances between rows gives us a clue as to how the countries relate to one another in terms of the primary spoken languages.\n",
    "\n",
    "The $\\chi^2$ distance between rows $i$ and $k$ is given by\n",
    "\n",
    "\\begin{align}\n",
    " d_{ik} &= \\sqrt{\\sum_{j=1}^{J} \\frac{(p_{ij}/p_{i+} - p_{kj}/p_{k+})^2}{p_{+j}} }\n",
    "\\end{align}"
   ]
  },
  {
   "cell_type": "code",
   "execution_count": 6,
   "metadata": {
    "collapsed": false
   },
   "outputs": [
    {
     "name": "stdout",
     "output_type": "stream",
     "text": [
      "row-to-row Chi-squared distance table:\n",
      "\n",
      "               Canada       USA   England     Italy  Switzerland\n",
      "Canada       0.000000  1.053631  0.629709  2.315427     1.978023\n",
      "USA          1.053631  0.000000  0.678054  2.296625     2.203064\n",
      "England      0.629709  0.678054  0.000000  2.192568     2.054644\n",
      "Italy        2.315427  2.296625  2.192568  0.000000     2.509498\n",
      "Switzerland  1.978023  2.203064  2.054644  2.509498     0.000000\n"
     ]
    }
   ],
   "source": [
    "data = []\n",
    "for _,row in P.iterrows():\n",
    "    acc = []\n",
    "    cntry_i = row.name\n",
    "    p_iplus = row_totals.ix[cntry_i]\n",
    "    for  cntry_k in P.index:\n",
    "        p_kplus = row_totals.ix[cntry_k]\n",
    "        chisqd = np.sqrt(np.sum(np.square(row/p_iplus - P.ix[cntry_k]/p_kplus) / col_totals))\n",
    "        acc.append(chisqd)\n",
    "    data.append(acc)\n",
    "\n",
    "row2row_chisqd = pd.DataFrame(data, index=P.index, columns=P.index)\n",
    "\n",
    "print(\"row-to-row Chi-squared distance table:\\n\\n{}\".format(row2row_chisqd))"
   ]
  },
  {
   "cell_type": "markdown",
   "metadata": {},
   "source": [
    "We can see in this row-to-row $\\chi^2$ distance table that for the Anglophonic countries, Canada, USA and England should be clustered near one another, while Italy and Switzerland are both separated from the other countries."
   ]
  },
  {
   "cell_type": "markdown",
   "metadata": {},
   "source": [
    "Conversely, the $\\chi^2$ distances between columns gives us a clue as to how the languages relate to one another in terms of the countries.\n",
    "\n",
    "The $\\chi^2$ distance between columns $j$ and $k$ is given by\n",
    "\n",
    "\\begin{align}\n",
    " d_{jk} &= \\sqrt{\\sum_{i=1}^{I} \\frac{(p_{ij}/p_{+j} - p_{kj}/p_{+k})^2}{p_{i+}} }\n",
    "\\end{align}"
   ]
  },
  {
   "cell_type": "code",
   "execution_count": 7,
   "metadata": {
    "collapsed": false
   },
   "outputs": [
    {
     "name": "stdout",
     "output_type": "stream",
     "text": [
      "column-to-column Chi-squared distance table:\n",
      "\n",
      "          English    French   Spanish    German   Italian\n",
      "English  0.000000  1.174400  1.160320  2.338660  2.157459\n",
      "French   1.174400  0.000000  1.849170  1.582510  2.140049\n",
      "Spanish  1.160320  1.849170  0.000000  2.439221  2.309852\n",
      "German   2.338660  1.582510  2.439221  0.000000  2.572037\n",
      "Italian  2.157459  2.140049  2.309852  2.572037  0.000000\n"
     ]
    }
   ],
   "source": [
    "PT = P.T\n",
    "\n",
    "data = []\n",
    "for _,row in PT.iterrows():\n",
    "    acc = []\n",
    "    lang_j = row.name\n",
    "    p_plusj = col_totals.ix[lang_j]\n",
    "    for lang_k in PT.index:\n",
    "        p_plusk = col_totals.ix[lang_k]\n",
    "        chisqd = np.sqrt(np.sum(np.square(row/p_plusj - PT.ix[lang_k]/p_plusk) / row_totals))\n",
    "        acc.append(chisqd)\n",
    "    data.append(acc)\n",
    "\n",
    "col2col_chisqd = pd.DataFrame(data, index=PT.index, columns=PT.index)\n",
    "\n",
    "print(\"column-to-column Chi-squared distance table:\\n\\n{}\".format(col2col_chisqd))"
   ]
  },
  {
   "cell_type": "markdown",
   "metadata": {},
   "source": [
    "For the languages, we can see from the column-to-column $\\chi^2$ distances that English and Spanish should be closely related, with French somewhere between English and German. Italian, however, should be sitting alone all by itself away from the others."
   ]
  },
  {
   "cell_type": "markdown",
   "metadata": {},
   "source": [
    "----"
   ]
  },
  {
   "cell_type": "markdown",
   "metadata": {},
   "source": [
    "We start with a matrix of _standardized residuals_:\n",
    "\n",
    "\\begin{align}\n",
    "  \\Omega &= \\left[ \\frac{p_{ij} - \\mu_{ij}}{\\sqrt{\\mu_{ij}}}  \\right]\n",
    "\\end{align}"
   ]
  },
  {
   "cell_type": "code",
   "execution_count": 8,
   "metadata": {
    "collapsed": false
   },
   "outputs": [
    {
     "data": {
      "text/plain": [
       "array([[ 0.08992,  0.0248 ,  0.01076,  0.02852,  0.046  ],\n",
       "       [ 0.08992,  0.0248 ,  0.01076,  0.02852,  0.046  ],\n",
       "       [ 0.08992,  0.0248 ,  0.01076,  0.02852,  0.046  ],\n",
       "       [ 0.08992,  0.0248 ,  0.01076,  0.02852,  0.046  ],\n",
       "       [ 0.08992,  0.0248 ,  0.01076,  0.02852,  0.046  ]])"
      ]
     },
     "execution_count": 8,
     "metadata": {},
     "output_type": "execute_result"
    }
   ],
   "source": [
    "row_totals = row_totals.as_matrix().reshape((5,1))\n",
    "col_totals = col_totals.as_matrix().reshape((1,5))\n",
    "\n",
    "Mu_ij = row_totals * col_totals\n",
    "Mu_ij"
   ]
  },
  {
   "cell_type": "code",
   "execution_count": 9,
   "metadata": {
    "collapsed": false
   },
   "outputs": [
    {
     "data": {
      "text/plain": [
       "array([[ 0.15900402,  0.1981202 , -0.08444967, -0.15585155, -0.20421855],\n",
       "       [ 0.18701647, -0.11811012,  0.26260378, -0.1594044 , -0.17624341],\n",
       "       [ 0.23236997, -0.06350006, -0.03046358, -0.1321659 , -0.15945832],\n",
       "       [-0.28852826, -0.14097014, -0.0825216 , -0.15111442,  0.66580843],\n",
       "       [-0.28986219,  0.12446012, -0.06516893,  0.59853627, -0.12588815]])"
      ]
     },
     "execution_count": 9,
     "metadata": {},
     "output_type": "execute_result"
    }
   ],
   "source": [
    "Omega = (P.as_matrix() - Mu_ij) / np.sqrt(Mu_ij)\n",
    "Omega"
   ]
  },
  {
   "cell_type": "code",
   "execution_count": 10,
   "metadata": {
    "collapsed": true
   },
   "outputs": [],
   "source": [
    "U,S,V = np.linalg.svd(Omega)"
   ]
  },
  {
   "cell_type": "code",
   "execution_count": 11,
   "metadata": {
    "collapsed": false
   },
   "outputs": [],
   "source": [
    "num_sv = np.arange(1,6)\n",
    "\n",
    "cum_var_explained = [np.sum(np.square(S[0:n])) / np.sum(np.square(S)) for n in num_sv]"
   ]
  },
  {
   "cell_type": "code",
   "execution_count": 12,
   "metadata": {
    "collapsed": false
   },
   "outputs": [
    {
     "data": {
      "image/png": "[encoded data removed]",
      "text/plain": [
       "<matplotlib.figure.Figure at 0x173f7482c88>"
      ]
     },
     "metadata": {},
     "output_type": "display_data"
    }
   ],
   "source": [
    "fig = plt.figure(figsize=(9,4.75))\n",
    "ax = fig.add_subplot(111)\n",
    "\n",
    "plt.plot(num_sv, cum_var_explained, color='#2171b5', label='cum. var')\n",
    "plt.scatter(num_sv, S, marker='s', color='#fc4e2a', label='singular values')\n",
    "\n",
    "ax.set_xticks(num_sv)\n",
    "\n",
    "plt.title('_Singular values & cumulative variance explained')\n",
    "plt.xlabel('Number of singular values used')\n",
    "plt.legend(loc='lower left')\n",
    "\n",
    "plt.grid()"
   ]
  },
  {
   "cell_type": "code",
   "execution_count": 13,
   "metadata": {
    "collapsed": false
   },
   "outputs": [],
   "source": [
    "cntry_x = U[:,0]\n",
    "cntry_y = U[:,1]\n",
    "\n",
    "lang_x = V.T[:,0]\n",
    "lang_y = V.T[:,1]"
   ]
  },
  {
   "cell_type": "code",
   "execution_count": 14,
   "metadata": {
    "collapsed": false
   },
   "outputs": [
    {
     "data": {
      "image/png": "[encoded data removed]",
      "text/plain": [
       "<matplotlib.figure.Figure at 0x173f789bd68>"
      ]
     },
     "metadata": {},
     "output_type": "display_data"
    }
   ],
   "source": [
    "fig = plt.figure(figsize=(12,6.5))\n",
    "ax = fig.add_subplot(111)\n",
    "\n",
    "plt.scatter(cntry_x, cntry_y, marker='s', color='#2171b5', label='country')\n",
    "for i,xy in enumerate(zip(cntry_x, cntry_y)):\n",
    "    ax.annotate(\"{}\".format(P.index[i]), xy=xy, textcoords='data')\n",
    "\n",
    "plt.scatter(lang_x, lang_y, marker='o', color='#fc4e2a', label='language')\n",
    "for i,xy in enumerate(zip(lang_x, lang_y)):\n",
    "    ax.annotate(\"{}\".format(P.columns[i]), xy=xy, textcoords='data')\n",
    "\n",
    "plt.title('Correspondence Analysis: Country-Language')\n",
    "plt.xlabel('Dimension 1: {:0.3f}'.format(S[0]))\n",
    "plt.ylabel('Dimension 2: {:0.3f}'.format(S[1]))\n",
    "plt.legend(loc='lower left', scatterpoints=1)\n",
    "\n",
    "ax.axhline(y=0, color='k')\n",
    "ax.axvline(x=0, color='k')\n",
    "\n",
    "ax.set_xlim([-1.0, 1.0])\n",
    "ax.set_ylim([-1.0, 1.0])\n",
    "\n",
    "plt.grid()"
   ]
  },
  {
   "cell_type": "code",
   "execution_count": null,
   "metadata": {
    "collapsed": true
   },
   "outputs": [],
   "source": []
  }
 ],
 "metadata": {
  "kernelspec": {
   "display_name": "Python 3",
   "language": "python",
   "name": "python3"
  },
  "language_info": {
   "codemirror_mode": {
    "name": "ipython",
    "version": 3
   },
   "file_extension": ".py",
   "mimetype": "text/x-python",
   "name": "python",
   "nbconvert_exporter": "python",
   "pygments_lexer": "ipython3",
   "version": "3.5.3"
  }
 },
 "nbformat": 4,
 "nbformat_minor": 0
}
