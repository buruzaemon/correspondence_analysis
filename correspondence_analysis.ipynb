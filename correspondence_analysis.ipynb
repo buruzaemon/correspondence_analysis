{
 "cells": [
  {
   "cell_type": "code",
   "execution_count": 1,
   "metadata": {
    "collapsed": true
   },
   "outputs": [],
   "source": [
    "import numpy as np\n",
    "import pandas as pd"
   ]
  },
  {
   "cell_type": "markdown",
   "metadata": {},
   "source": [
    "https://www.ncbi.nlm.nih.gov/pmc/articles/PMC3718710/"
   ]
  },
  {
   "cell_type": "code",
   "execution_count": 2,
   "metadata": {
    "collapsed": true
   },
   "outputs": [],
   "source": [
    "df = pd.read_csv('country_language_contingency.csv', index_col=0)"
   ]
  },
  {
   "cell_type": "code",
   "execution_count": 3,
   "metadata": {
    "collapsed": false
   },
   "outputs": [],
   "source": [
    "row_totals = np.sum(df, axis=1)\n",
    "col_totals = np.sum(df, axis=0)\n",
    "cell_totals = np.sum(np.sum(df))"
   ]
  },
  {
   "cell_type": "code",
   "execution_count": 4,
   "metadata": {
    "collapsed": false
   },
   "outputs": [
    {
     "name": "stdout",
     "output_type": "stream",
     "text": [
      "Row profiles:\n",
      "             English  French  Spanish  German  Italian\n",
      "Canada         0.688   0.280    0.010   0.011    0.011\n",
      "USA            0.730   0.031    0.190   0.008    0.041\n",
      "England        0.798   0.074    0.038   0.031    0.059\n",
      "Italy          0.017   0.013    0.011   0.015    0.944\n",
      "Switzerland    0.015   0.222    0.020   0.648    0.095\n",
      "\n",
      "Average row profile:\n",
      "English    0.4496\n",
      "French     0.1240\n",
      "Spanish    0.0538\n",
      "German     0.1426\n",
      "Italian    0.2300\n",
      "dtype: float64\n"
     ]
    }
   ],
   "source": [
    "data = []\n",
    "for _, row in df.iterrows():\n",
    "    data.append((row / row_totals.ix[row.name]))\n",
    "\n",
    "row_profiles = pd.DataFrame(data)\n",
    "\n",
    "avg_row_profile = row_profiles.mean(axis=0)\n",
    "\n",
    "print(\"Row profiles:\\n{}\\n\".format(row_profiles))\n",
    "print(\"Average row profile:\\n{}\".format(avg_row_profile))"
   ]
  },
  {
   "cell_type": "code",
   "execution_count": null,
   "metadata": {
    "collapsed": true
   },
   "outputs": [],
   "source": []
  },
  {
   "cell_type": "markdown",
   "metadata": {},
   "source": [
    "----"
   ]
  },
  {
   "cell_type": "code",
   "execution_count": 5,
   "metadata": {
    "collapsed": false,
    "scrolled": true
   },
   "outputs": [
    {
     "name": "stdout",
     "output_type": "stream",
     "text": [
      "Column profiles:\n",
      "           Canada       USA   England     Italy  Switzerland\n",
      "English  0.306050  0.324733  0.354982  0.007562     0.006673\n",
      "French   0.451613  0.050000  0.119355  0.020968     0.358065\n",
      "Spanish  0.037175  0.706320  0.141264  0.040892     0.074349\n",
      "German   0.015428  0.011220  0.043478  0.021038     0.908836\n",
      "Italian  0.009565  0.035652  0.051304  0.820870     0.082609\n",
      "\n",
      "Average col profile:\n",
      "Canada         0.2\n",
      "USA            0.2\n",
      "England        0.2\n",
      "Italy          0.2\n",
      "Switzerland    0.2\n",
      "dtype: float64\n"
     ]
    }
   ],
   "source": [
    "data = []\n",
    "for _,col in df.iteritems():\n",
    "    data.append((col / col_totals.ix[col.name]))\n",
    "   \n",
    "column_profiles = pd.DataFrame(data)\n",
    "\n",
    "avg_col_profile = row_totals / cell_totals\n",
    "\n",
    "print(\"Column profiles:\\n{}\\n\".format(column_profiles))\n",
    "print(\"Average col profile:\\n{}\".format(avg_col_profile))"
   ]
  },
  {
   "cell_type": "code",
   "execution_count": 6,
   "metadata": {
    "collapsed": false
   },
   "outputs": [
    {
     "name": "stdout",
     "output_type": "stream",
     "text": [
      "Canada: 0.8296401646386912\n",
      "USA: 0.9336953580746634\n",
      "England: 0.7136205964121708\n",
      "Italy: 1.6971555483780416\n",
      "Switzerland: 1.5457213408022732\n"
     ]
    }
   ],
   "source": [
    "for _, row in row_profiles.iterrows():\n",
    "    chisqd_from_avg = np.sqrt(np.sum(np.square(row - avg_row_profile) / avg_row_profile))\n",
    "    print(\"{}: {}\".format(row.name, chisqd_from_avg))"
   ]
  },
  {
   "cell_type": "code",
   "execution_count": 7,
   "metadata": {
    "collapsed": false
   },
   "outputs": [
    {
     "data": {
      "text/plain": [
       "1.5457213408022732"
      ]
     },
     "execution_count": 7,
     "metadata": {},
     "output_type": "execute_result"
    }
   ],
   "source": [
    "np.sqrt(np.sum(np.square(row - avg_row_profile) / avg_row_profile))"
   ]
  },
  {
   "cell_type": "markdown",
   "metadata": {},
   "source": [
    "----"
   ]
  },
  {
   "cell_type": "markdown",
   "metadata": {},
   "source": [
    "http://www.mathematica-journal.com/2010/09/an-introduction-to-correspondence-analysis/"
   ]
  },
  {
   "cell_type": "code",
   "execution_count": 8,
   "metadata": {
    "collapsed": false
   },
   "outputs": [
    {
     "data": {
      "text/html": [
       "<div>\n",
       "<table border=\"1\" class=\"dataframe\">\n",
       "  <thead>\n",
       "    <tr style=\"text-align: right;\">\n",
       "      <th></th>\n",
       "      <th>English</th>\n",
       "      <th>French</th>\n",
       "      <th>Spanish</th>\n",
       "      <th>German</th>\n",
       "      <th>Italian</th>\n",
       "    </tr>\n",
       "  </thead>\n",
       "  <tbody>\n",
       "    <tr>\n",
       "      <th>Canada</th>\n",
       "      <td>0.1376</td>\n",
       "      <td>0.0560</td>\n",
       "      <td>0.0020</td>\n",
       "      <td>0.0022</td>\n",
       "      <td>0.0022</td>\n",
       "    </tr>\n",
       "    <tr>\n",
       "      <th>USA</th>\n",
       "      <td>0.1460</td>\n",
       "      <td>0.0062</td>\n",
       "      <td>0.0380</td>\n",
       "      <td>0.0016</td>\n",
       "      <td>0.0082</td>\n",
       "    </tr>\n",
       "    <tr>\n",
       "      <th>England</th>\n",
       "      <td>0.1596</td>\n",
       "      <td>0.0148</td>\n",
       "      <td>0.0076</td>\n",
       "      <td>0.0062</td>\n",
       "      <td>0.0118</td>\n",
       "    </tr>\n",
       "    <tr>\n",
       "      <th>Italy</th>\n",
       "      <td>0.0034</td>\n",
       "      <td>0.0026</td>\n",
       "      <td>0.0022</td>\n",
       "      <td>0.0030</td>\n",
       "      <td>0.1888</td>\n",
       "    </tr>\n",
       "    <tr>\n",
       "      <th>Switzerland</th>\n",
       "      <td>0.0030</td>\n",
       "      <td>0.0444</td>\n",
       "      <td>0.0040</td>\n",
       "      <td>0.1296</td>\n",
       "      <td>0.0190</td>\n",
       "    </tr>\n",
       "  </tbody>\n",
       "</table>\n",
       "</div>"
      ],
      "text/plain": [
       "             English  French  Spanish  German  Italian\n",
       "Canada        0.1376  0.0560   0.0020  0.0022   0.0022\n",
       "USA           0.1460  0.0062   0.0380  0.0016   0.0082\n",
       "England       0.1596  0.0148   0.0076  0.0062   0.0118\n",
       "Italy         0.0034  0.0026   0.0022  0.0030   0.1888\n",
       "Switzerland   0.0030  0.0444   0.0040  0.1296   0.0190"
      ]
     },
     "execution_count": 8,
     "metadata": {},
     "output_type": "execute_result"
    }
   ],
   "source": [
    "correspondence_matrix = df / df.sum().sum()\n",
    "correspondence_matrix"
   ]
  },
  {
   "cell_type": "code",
   "execution_count": 9,
   "metadata": {
    "collapsed": false
   },
   "outputs": [
    {
     "data": {
      "text/plain": [
       "Canada         0.2\n",
       "USA            0.2\n",
       "England        0.2\n",
       "Italy          0.2\n",
       "Switzerland    0.2\n",
       "dtype: float64"
      ]
     },
     "execution_count": 9,
     "metadata": {},
     "output_type": "execute_result"
    }
   ],
   "source": [
    "correspondence_matrix.sum(axis=1)"
   ]
  },
  {
   "cell_type": "code",
   "execution_count": 10,
   "metadata": {
    "collapsed": false
   },
   "outputs": [
    {
     "data": {
      "text/plain": [
       "English    0.4496\n",
       "French     0.1240\n",
       "Spanish    0.0538\n",
       "German     0.1426\n",
       "Italian    0.2300\n",
       "dtype: float64"
      ]
     },
     "execution_count": 10,
     "metadata": {},
     "output_type": "execute_result"
    }
   ],
   "source": [
    "correspondence_matrix.sum(axis=0)"
   ]
  },
  {
   "cell_type": "code",
   "execution_count": null,
   "metadata": {
    "collapsed": true
   },
   "outputs": [],
   "source": []
  }
 ],
 "metadata": {
  "kernelspec": {
   "display_name": "Python 3",
   "language": "python",
   "name": "python3"
  },
  "language_info": {
   "codemirror_mode": {
    "name": "ipython",
    "version": 3
   },
   "file_extension": ".py",
   "mimetype": "text/x-python",
   "name": "python",
   "nbconvert_exporter": "python",
   "pygments_lexer": "ipython3",
   "version": "3.5.3"
  }
 },
 "nbformat": 4,
 "nbformat_minor": 0
}
